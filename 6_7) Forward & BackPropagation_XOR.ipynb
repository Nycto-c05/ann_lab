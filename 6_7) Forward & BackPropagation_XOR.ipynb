{
 "cells": [
  {
   "cell_type": "code",
   "execution_count": 3,
   "id": "ab679846-b73d-48e9-a263-208c81de659a",
   "metadata": {},
   "outputs": [],
   "source": [
    "import numpy as np"
   ]
  },
  {
   "cell_type": "code",
   "execution_count": 195,
   "id": "e01d4abf-4e9f-4ad6-bb69-2e242ad6defc",
   "metadata": {},
   "outputs": [],
   "source": [
    "import numpy as np\n",
    "\n",
    "class NN:\n",
    "    def __init__(self, input_size, hidden_size, output_size, lr=1):\n",
    "        self.input_size = input_size\n",
    "        self.hidden_size = hidden_size\n",
    "        self.output_size = output_size\n",
    "        self.lr = lr\n",
    "\n",
    "        # init weights\n",
    "        self.w1 = np.random.randn(self.input_size, self.hidden_size)\n",
    "        self.w2 = np.random.randn(self.hidden_size, self.output_size)\n",
    "\n",
    "    def sigmoid(self, x):\n",
    "        return 1 / (1 + np.exp(-x))\n",
    "\n",
    "    def sigmoid_derivative(self, x):\n",
    "        return x * (1 - x)\n",
    "\n",
    "    def forward(self, X):\n",
    "        # input->hidden\n",
    "        self.z = np.dot(X, self.w1)\n",
    "        self.z2 = self.sigmoid(self.z)\n",
    "        # hidden->output\n",
    "        self.z3 = np.dot(self.z2, self.w2)\n",
    "        output = self.sigmoid(self.z3)\n",
    "        return output\n",
    "\n",
    "    def backward(self, X, y, output):\n",
    "        self.output_error = y - output # dL/dy\n",
    "        self.delta_output = self.output_error * self.sigmoid_derivative(output)\n",
    "        \n",
    "        self.delta_hidden = np.dot(self.delta_output, self.w2.T) * self.sigmoid_derivative(self.z2)\n",
    "        \n",
    "        self.w2 += self.lr * np.dot(self.z2.T, self.delta_output)\n",
    "        self.w1 += self.lr * np.dot(X.T, self.delta_hidden)\n",
    "\n",
    "    def train(self, X, y, epochs):\n",
    "        for i in range(epochs):\n",
    "            output = self.forward(X)\n",
    "            self.backward(X, y, output)\n"
   ]
  },
  {
   "cell_type": "code",
   "execution_count": 196,
   "id": "39b3ea48-4d58-405d-bd94-0bd690e84253",
   "metadata": {},
   "outputs": [],
   "source": [
    "nn = NN(input_size=2,hidden_size=5, output_size=1)"
   ]
  },
  {
   "cell_type": "code",
   "execution_count": 197,
   "id": "dbd8c443-4e09-4434-9353-3724e92b7e1a",
   "metadata": {},
   "outputs": [],
   "source": [
    "X = np.array([[0,0], [0,1], [1,0], [1,1]])\n",
    "y = np.array([[0], [1], [1], [0]])"
   ]
  },
  {
   "cell_type": "code",
   "execution_count": 198,
   "id": "fbdab687-827a-4c8c-bde0-aaf2ed7d6b72",
   "metadata": {},
   "outputs": [],
   "source": [
    "nn.train(X, y, epochs=10000)"
   ]
  },
  {
   "cell_type": "code",
   "execution_count": 199,
   "id": "7918c30f-df7c-41e1-83d9-4425ae8f3d5c",
   "metadata": {},
   "outputs": [],
   "source": [
    "data = np.array([[0,0], [0,1], [1,0], [1,1]])"
   ]
  },
  {
   "cell_type": "code",
   "execution_count": 200,
   "id": "acdb98ee-0ed8-443f-b270-c5df5b383e16",
   "metadata": {},
   "outputs": [],
   "source": [
    "predictions = nn.forward(data)"
   ]
  },
  {
   "cell_type": "code",
   "execution_count": 201,
   "id": "d2aad26f-f32f-4e84-b2d1-54c7522fc79b",
   "metadata": {},
   "outputs": [
    {
     "data": {
      "text/plain": [
       "array([[0.],\n",
       "       [1.],\n",
       "       [1.],\n",
       "       [0.]])"
      ]
     },
     "execution_count": 201,
     "metadata": {},
     "output_type": "execute_result"
    }
   ],
   "source": [
    "predictions.round()"
   ]
  },
  {
   "cell_type": "code",
   "execution_count": null,
   "id": "d746536e-8727-4101-8b0f-e78c3f329435",
   "metadata": {},
   "outputs": [],
   "source": [
    "#7th prac XOR"
   ]
  },
  {
   "cell_type": "code",
   "execution_count": 211,
   "id": "9a5d0b26-da2e-4716-b515-884b38d575dc",
   "metadata": {},
   "outputs": [
    {
     "name": "stdout",
     "output_type": "stream",
     "text": [
      "Error: 0.29930018665936026\n",
      "Error: 0.23178008348726514\n",
      "Error: 0.17272127277051305\n",
      "Error: 0.12460118912170864\n",
      "Error: 0.05769601082579599\n",
      "Error: 0.02922771055598132\n",
      "Error: 0.018172248112299855\n",
      "Error: 0.012831751393251028\n",
      "Error: 0.009787856786021211\n",
      "Error: 0.007851159773210345\n",
      "Output after training:\n",
      "[[0.]\n",
      " [1.]\n",
      " [1.]\n",
      " [0.]]\n"
     ]
    }
   ],
   "source": [
    "import numpy as np\n",
    "\n",
    "class XOR_NN:\n",
    "    def __init__(self, input_size, hidden_size, output_size, lr=0.1):\n",
    "        self.input_size = input_size\n",
    "        self.hidden_size = hidden_size\n",
    "        self.output_size = output_size\n",
    "        self.lr = lr\n",
    "\n",
    "        # init weights\n",
    "        self.w1 = np.random.randn(self.input_size, self.hidden_size)\n",
    "        self.w2 = np.random.randn(self.hidden_size, self.output_size)\n",
    "\n",
    "    def sigmoid(self, x):\n",
    "        return 1 / (1 + np.exp(-x))\n",
    "\n",
    "    def sigmoid_derivative(self, x):\n",
    "        return x * (1 - x)\n",
    "\n",
    "    def forward(self, X):\n",
    "        # input->hidden\n",
    "        self.z = np.dot(X, self.w1)\n",
    "        self.z2 = self.sigmoid(self.z)\n",
    "        # hidden->output\n",
    "        self.z3 = np.dot(self.z2, self.w2)\n",
    "        output = self.sigmoid(self.z3)\n",
    "        return output\n",
    "\n",
    "    def backward(self, X, y, output):\n",
    "        self.output_error = y - output # dL/dy\n",
    "        self.delta_output = self.output_error * self.sigmoid_derivative(output)\n",
    "        \n",
    "        self.delta_hidden = np.dot(self.delta_output, self.w2.T) * self.sigmoid_derivative(self.z2)\n",
    "        \n",
    "        self.w2 += self.lr * np.dot(self.z2.T, self.delta_output)\n",
    "        self.w1 += self.lr * np.dot(X.T, self.delta_hidden)\n",
    "\n",
    "    def train(self, X, y, epochs):\n",
    "        for i in range(epochs):\n",
    "            output = self.forward(X)\n",
    "            self.backward(X, y, output)\n",
    "            if i % 1000 == 0:\n",
    "                print(f'Error: {np.mean(np.square(y - self.forward(X)))}')\n",
    "\n",
    "# XOR input and output\n",
    "X = np.array([[0,0],\n",
    "              [0,1],\n",
    "              [1,0],\n",
    "              [1,1]])\n",
    "\n",
    "y = np.array([[0],\n",
    "              [1],\n",
    "              [1],\n",
    "              [0]])\n",
    "\n",
    "# Initialize the neural network\n",
    "nn = XOR_NN(2, 5, 1)\n",
    "\n",
    "# Train the neural network\n",
    "nn.train(X, y, 10000)\n",
    "\n",
    "# Test the neural network\n",
    "print(\"Output after training:\")\n",
    "print(nn.forward(X).round())\n"
   ]
  },
  {
   "cell_type": "code",
   "execution_count": null,
   "id": "8bebed70-2bbb-4444-9ec1-acdaef7d174b",
   "metadata": {},
   "outputs": [],
   "source": []
  },
  {
   "cell_type": "code",
   "execution_count": null,
   "id": "16ab2f7f-6c7b-4065-93cf-29107f085207",
   "metadata": {},
   "outputs": [],
   "source": []
  }
 ],
 "metadata": {
  "kernelspec": {
   "display_name": "Python 3 (ipykernel)",
   "language": "python",
   "name": "python3"
  },
  "language_info": {
   "codemirror_mode": {
    "name": "ipython",
    "version": 3
   },
   "file_extension": ".py",
   "mimetype": "text/x-python",
   "name": "python",
   "nbconvert_exporter": "python",
   "pygments_lexer": "ipython3",
   "version": "3.11.6"
  }
 },
 "nbformat": 4,
 "nbformat_minor": 5
}
