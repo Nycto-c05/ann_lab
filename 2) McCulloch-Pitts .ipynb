{
 "cells": [
  {
   "cell_type": "code",
   "execution_count": 6,
   "id": "5e6fdfd1-5002-4ea9-8bc8-9f7f990484c6",
   "metadata": {},
   "outputs": [],
   "source": [
    "def MP_neuron(x1, x2):\n",
    "    w1 = 1\n",
    "    w2 = -1\n",
    "    threshold = 0.5\n",
    "\n",
    "    weighted_sum = w1*x1 + w2*x2\n",
    "\n",
    "    if weighted_sum > threshold:\n",
    "        return 1\n",
    "    else:\n",
    "        return 0"
   ]
  },
  {
   "cell_type": "code",
   "execution_count": 7,
   "id": "c583714d-2021-475c-a708-e50526647134",
   "metadata": {},
   "outputs": [
    {
     "name": "stdout",
     "output_type": "stream",
     "text": [
      "MP_neuron(0, 0) = 0\n",
      "MP_neuron(1, 0) = 1\n",
      "MP_neuron(0, 1) = 0\n",
      "MP_neuron(1, 1) = 0\n"
     ]
    }
   ],
   "source": [
    "# Test the MP neuron for ANDNOT function\n",
    "print(\"MP_neuron(0, 0) =\", MP_neuron(0, 0))  # Expected output: 0\n",
    "print(\"MP_neuron(1, 0) =\", MP_neuron(1, 0))  # Expected output: 1\n",
    "print(\"MP_neuron(0, 1) =\", MP_neuron(0, 1))  # Expected output: 0\n",
    "print(\"MP_neuron(1, 1) =\", MP_neuron(1, 1))  # Expected output: 0"
   ]
  },
  {
   "cell_type": "code",
   "execution_count": null,
   "id": "4e098ac3-5bb8-416f-945d-45834d53cdc2",
   "metadata": {},
   "outputs": [],
   "source": []
  }
 ],
 "metadata": {
  "kernelspec": {
   "display_name": "Python 3 (ipykernel)",
   "language": "python",
   "name": "python3"
  },
  "language_info": {
   "codemirror_mode": {
    "name": "ipython",
    "version": 3
   },
   "file_extension": ".py",
   "mimetype": "text/x-python",
   "name": "python",
   "nbconvert_exporter": "python",
   "pygments_lexer": "ipython3",
   "version": "3.11.6"
  }
 },
 "nbformat": 4,
 "nbformat_minor": 5
}
