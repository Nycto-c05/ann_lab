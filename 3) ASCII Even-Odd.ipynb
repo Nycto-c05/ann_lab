{
 "cells": [
  {
   "cell_type": "code",
   "execution_count": 1,
   "id": "f57a7d36-774b-44da-a7d1-d3940c504996",
   "metadata": {},
   "outputs": [],
   "source": [
    "import numpy as np"
   ]
  },
  {
   "cell_type": "code",
   "execution_count": 2,
   "id": "3a507560-1fc6-4438-a212-6342ce283b3e",
   "metadata": {},
   "outputs": [],
   "source": [
    "def perc_pred(weights,bias,inputs):\n",
    "    activation = np.dot(weights,inputs) + bias\n",
    "    return 1 if activation >= 0 else 0"
   ]
  },
  {
   "cell_type": "code",
   "execution_count": 3,
   "id": "ff4cd058-feb3-4fbc-8ff9-ac6bbd86ccf4",
   "metadata": {},
   "outputs": [],
   "source": [
    "def perc_train(weights,bias,inputs,target,lrn_rate):\n",
    "    inputs = np.array(inputs)\n",
    "    pred = perc_pred(weights,bias,inputs)\n",
    "    error = target - pred\n",
    "    weights += lrn_rate * error * inputs\n",
    "    bias += lrn_rate * error\n",
    "    return weights, bias"
   ]
  },
  {
   "cell_type": "code",
   "execution_count": 4,
   "id": "332ba984-29a2-47d7-a344-f7a3c6657fdf",
   "metadata": {},
   "outputs": [],
   "source": [
    "def ascii_to_bin(ascii_val):\n",
    "    bin_val = bin(ascii_val)[2:].zfill(8)\n",
    "    return [int(bit) for bit in bin_val]"
   ]
  },
  {
   "cell_type": "code",
   "execution_count": 5,
   "id": "3432d79a-c64a-4f97-9de6-acb4372c4854",
   "metadata": {},
   "outputs": [],
   "source": [
    "training_data = [\n",
    "    (ascii_to_bin(48), 1),  # '0'\n",
    "    (ascii_to_bin(49), 0),  # '1'\n",
    "    (ascii_to_bin(50), 1),  # '2'\n",
    "    (ascii_to_bin(51), 0),  # '3'\n",
    "    (ascii_to_bin(52), 1),  # '4'\n",
    "    (ascii_to_bin(53), 0),  # '5'\n",
    "    (ascii_to_bin(54), 1),  # '6'\n",
    "    (ascii_to_bin(55), 0),  # '7'\n",
    "    (ascii_to_bin(56), 1),  # '8'\n",
    "    (ascii_to_bin(57), 0)   # '9'\n",
    "]\n",
    "weights = np.zeros(8)\n",
    "bias = 0\n",
    "lrn_rate = 0.1\n",
    "epochs = 1000 \n"
   ]
  },
  {
   "cell_type": "code",
   "execution_count": 6,
   "id": "32c438ff-fe17-42a4-8fff-eb8cc4ec549d",
   "metadata": {},
   "outputs": [
    {
     "data": {
      "text/plain": [
       "[0, 0, 1, 1, 1, 0, 0, 1]"
      ]
     },
     "execution_count": 6,
     "metadata": {},
     "output_type": "execute_result"
    }
   ],
   "source": [
    "for _ in range(epochs):\n",
    "    for inp_vec, target in training_data:\n",
    "        weights, bias = perc_train(weights, bias, inp_vec, target,lrn_rate)\n",
    "\n",
    "test_data = [\n",
    "    (ascii_to_bin(50), \"Even\"),  # '2'\n",
    "    (ascii_to_bin(51), \"Odd\"),   # '3'\n",
    "    (ascii_to_bin(54), \"Even\"),  # '6'\n",
    "    (ascii_to_bin(57), \"Odd\")    # '9'\n",
    "]\n",
    "inp_vec"
   ]
  },
  {
   "cell_type": "code",
   "execution_count": 7,
   "id": "4e0049f8-f34f-4c9e-8fe6-a3d21046eb40",
   "metadata": {},
   "outputs": [
    {
     "name": "stdout",
     "output_type": "stream",
     "text": [
      "Input: [0, 0, 1, 1, 0, 0, 1, 0], Expected: Even, Predicted: Even\n",
      "Input: [0, 0, 1, 1, 0, 0, 1, 1], Expected: Odd, Predicted: Odd\n",
      "Input: [0, 0, 1, 1, 0, 1, 1, 0], Expected: Even, Predicted: Even\n",
      "Input: [0, 0, 1, 1, 1, 0, 0, 1], Expected: Odd, Predicted: Odd\n"
     ]
    }
   ],
   "source": [
    "for inp_vec, expected_result in test_data:\n",
    "    pred = perc_pred(weights, bias, inp_vec)\n",
    "    result = \"Even\" if pred == 1 else \"Odd\"\n",
    "    print(f\"Input: {inp_vec}, Expected: {expected_result}, Predicted: {result}\")"
   ]
  },
  {
   "cell_type": "code",
   "execution_count": 9,
   "id": "bb464225-4930-4fa7-b690-fae44111d462",
   "metadata": {},
   "outputs": [
    {
     "name": "stdout",
     "output_type": "stream",
     "text": [
      "The ASCII value of '2' is 50. Predicted as: Even\n"
     ]
    }
   ],
   "source": [
    "# Get input from the user\n",
    "user_input = input(\"Enter a single character: \")\n",
    "\n",
    "# Convert the input character to ASCII\n",
    "ascii_val = ord(user_input)\n",
    "\n",
    "# Convert the ASCII value to its binary representation\n",
    "input_vector = ascii_to_bin(ascii_val)\n",
    "\n",
    "# Use the perceptron to predict whether the input is even or odd\n",
    "pred = perc_pred(weights, bias, input_vector)\n",
    "\n",
    "# Print the result\n",
    "result = \"Even\" if pred == 1 else \"Odd\"\n",
    "print(f\"The ASCII value of '{user_input}' is {ascii_val}. Predicted as: {result}\")\n"
   ]
  },
  {
   "cell_type": "code",
   "execution_count": 10,
   "id": "05967d74-751b-4184-bfde-d51d2674b4e7",
   "metadata": {},
   "outputs": [
    {
     "name": "stdout",
     "output_type": "stream",
     "text": [
      "[1, 2, 3, 4, 1, 2, 3, 4]\n"
     ]
    }
   ],
   "source": [
    "l = [1,2,3,4]\n",
    "print(l*2)"
   ]
  },
  {
   "cell_type": "code",
   "execution_count": 11,
   "id": "8a6974d2-0962-40de-a284-e4c3373ef023",
   "metadata": {},
   "outputs": [
    {
     "name": "stdout",
     "output_type": "stream",
     "text": [
      "[2 4 6 8]\n"
     ]
    }
   ],
   "source": [
    "l=np.array(l)\n",
    "print(l*2)"
   ]
  },
  {
   "cell_type": "code",
   "execution_count": null,
   "id": "cc0d52d6-cf11-4a3a-bb6a-db82243179ec",
   "metadata": {},
   "outputs": [],
   "source": []
  }
 ],
 "metadata": {
  "kernelspec": {
   "display_name": "Python 3 (ipykernel)",
   "language": "python",
   "name": "python3"
  },
  "language_info": {
   "codemirror_mode": {
    "name": "ipython",
    "version": 3
   },
   "file_extension": ".py",
   "mimetype": "text/x-python",
   "name": "python",
   "nbconvert_exporter": "python",
   "pygments_lexer": "ipython3",
   "version": "3.11.6"
  }
 },
 "nbformat": 4,
 "nbformat_minor": 5
}
