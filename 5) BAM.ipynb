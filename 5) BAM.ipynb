{
 "cells": [
  {
   "cell_type": "code",
   "execution_count": 1,
   "id": "a9eba617-d3aa-4b68-8448-ea9ff9c00c7b",
   "metadata": {},
   "outputs": [],
   "source": [
    "import numpy as np"
   ]
  },
  {
   "cell_type": "code",
   "execution_count": 65,
   "id": "354b633a-13ce-499e-8d7f-bc8c3a7fe7d4",
   "metadata": {},
   "outputs": [],
   "source": [
    "class BAM:\n",
    "    def __init__(self, input_shape, output_shape):\n",
    "        self.weights = np.zeros((input_shape, output_shape))\n",
    "\n",
    "    def train(self, input_pattern, output_pattern):\n",
    "        for i in range(input_pattern.shape[0]):\n",
    "            x = input_pattern[i]\n",
    "            y = output_pattern[i]\n",
    "\n",
    "            self.weights += np.outer(x, y)\n",
    "\n",
    "    # Recall output patterns\n",
    "    def recall_X_Y(self, input_pattern):\n",
    "        return np.dot(self.weights, input_pattern)\n",
    "\n",
    "    # Recall input patterns\n",
    "    def recall_Y_X(self, output_pattern):\n",
    "        return np.dot(self.weights, output_pattern)\n"
   ]
  },
  {
   "cell_type": "code",
   "execution_count": 66,
   "id": "79ed193b-2fdb-4ad2-9f91-1346a5dafa88",
   "metadata": {},
   "outputs": [],
   "source": [
    "input_size = 2\n",
    "output_size = 2\n",
    "bam = BAM(input_size, output_size)"
   ]
  },
  {
   "cell_type": "code",
   "execution_count": 67,
   "id": "1b06d878-5283-460a-a1f4-cf02f6deccfc",
   "metadata": {},
   "outputs": [],
   "source": [
    "input_pattern = np.array([[1,-1], [-1,1]])\n",
    "output_pattern = np.array([[-1,1], [1,-1]])\n",
    "\n",
    "bam.train(input_pattern, output_pattern)"
   ]
  },
  {
   "cell_type": "code",
   "execution_count": 68,
   "id": "dbe91d1a-c469-4835-8dda-c70bc50ba629",
   "metadata": {},
   "outputs": [
    {
     "data": {
      "text/plain": [
       "array([[-2.,  2.],\n",
       "       [ 2., -2.]])"
      ]
     },
     "execution_count": 68,
     "metadata": {},
     "output_type": "execute_result"
    }
   ],
   "source": [
    "bam.weights"
   ]
  },
  {
   "cell_type": "code",
   "execution_count": 69,
   "id": "10bf1d74-36ca-4dc7-a3ca-5edbf18f57a3",
   "metadata": {},
   "outputs": [
    {
     "data": {
      "text/plain": [
       "array([-4.,  4.])"
      ]
     },
     "execution_count": 69,
     "metadata": {},
     "output_type": "execute_result"
    }
   ],
   "source": [
    "#Testing input to output\n",
    "input_pattern = np.array([1,-1])\n",
    "bam.recall_X_Y(input_pattern)"
   ]
  },
  {
   "cell_type": "code",
   "execution_count": 72,
   "id": "89ca6258-50a1-499a-88ce-78740914fe3b",
   "metadata": {},
   "outputs": [
    {
     "data": {
      "text/plain": [
       "array([-4.,  4.])"
      ]
     },
     "execution_count": 72,
     "metadata": {},
     "output_type": "execute_result"
    }
   ],
   "source": [
    "output_pattern = np.array([1,-1])\n",
    "bam.recall_Y_X(output_pattern)"
   ]
  }
 ],
 "metadata": {
  "kernelspec": {
   "display_name": "Python 3 (ipykernel)",
   "language": "python",
   "name": "python3"
  },
  "language_info": {
   "codemirror_mode": {
    "name": "ipython",
    "version": 3
   },
   "file_extension": ".py",
   "mimetype": "text/x-python",
   "name": "python",
   "nbconvert_exporter": "python",
   "pygments_lexer": "ipython3",
   "version": "3.11.6"
  }
 },
 "nbformat": 4,
 "nbformat_minor": 5
}
